{
 "cells": [
  {
   "cell_type": "code",
   "execution_count": 4,
   "metadata": {},
   "outputs": [],
   "source": [
    "import requests\n",
    "from datetime import datetime\n"
   ]
  },
  {
   "cell_type": "code",
   "execution_count": 18,
   "metadata": {},
   "outputs": [
    {
     "data": {
      "text/plain": [
       "{'data': [{'code': 'ACB',\n",
       "   'date': '2023-08-23',\n",
       "   'time': '09:43:40',\n",
       "   'floor': 'HOSE',\n",
       "   'type': 'STOCK',\n",
       "   'basicPrice': 22.05,\n",
       "   'ceilingPrice': 23.55,\n",
       "   'floorPrice': 20.55,\n",
       "   'open': 22.2,\n",
       "   'high': 22.3,\n",
       "   'low': 22.05,\n",
       "   'close': 22.1,\n",
       "   'average': 22.19032639,\n",
       "   'adOpen': 22.2,\n",
       "   'adHigh': 22.3,\n",
       "   'adLow': 22.05,\n",
       "   'adClose': 22.1,\n",
       "   'adAverage': 22.19032639,\n",
       "   'nmVolume': 1017200.0,\n",
       "   'nmValue': 22572000000.0,\n",
       "   'ptVolume': 0.7,\n",
       "   'ptValue': 0.14385,\n",
       "   'change': 0.05,\n",
       "   'adChange': 0.05,\n",
       "   'pctChange': 0.2268}],\n",
       " 'currentPage': 1,\n",
       " 'size': 1,\n",
       " 'totalElements': 2,\n",
       " 'totalPages': 2}"
      ]
     },
     "execution_count": 18,
     "metadata": {},
     "output_type": "execute_result"
    }
   ],
   "source": [
    "end_date = '2023-08-23'\n",
    "start_date = '2023-08-23'\n",
    "symbol = 'TCI'\n",
    "headers = USER_AGENTS = [\n",
    "    \"Mozilla/5.0 (Macintosh; Intel Mac OS X 10_15_7) AppleWebKit/537.36 (KHTML, like Gecko) Chrome/100.0.4896.127 Safari/537.36\",\n",
    "    \"Mozilla/5.0 (Windows NT 10.0; Win64; x64) AppleWebKit/537.36 (KHTML, like Gecko) Chrome/99.0.4844.51 Safari/537.36\",\n",
    "    \"Mozilla/5.0 (Windows NT 10.0; Win64; x64) AppleWebKit/537.36 (KHTML, like Gecko) Chrome/101.0.4951.41 Safari/537.36\",\n",
    "    \"Mozilla/5.0 (Macintosh; Intel Mac OS X 12_3_1) AppleWebKit/537.36 (KHTML, like Gecko) Chrome/101.0.4951.41 Safari/537.36\",\n",
    "    \"Mozilla/5.0 (X11; Linux x86_64) AppleWebKit/537.36 (KHTML, like Gecko) Chrome/101.0.4951.41 Safari/537.36\"\n",
    "]\n",
    "\n",
    "headers = {'user-agent': USER_AGENTS[0]}\n",
    "API_VNDIRECT = 'https://finfo-api.vndirect.com.vn/v4/stock_prices/'\n",
    "query = 'code:' + symbol + '~date:gte:' + start_date + '~date:lte:' + end_date\n",
    "delta = datetime.strptime(end_date, '%Y-%m-%d') - datetime.strptime(start_date, '%Y-%m-%d')\n",
    "params = {\n",
    "    \"sort\": \"date\",\n",
    "    \"size\": delta.days + 1,\n",
    "    \"page\": 1,\n",
    "    \"q\": query\n",
    "}\n",
    "res = requests.get(API_VNDIRECT, params=params, headers=headers)\n",
    "res.json()\n"
   ]
  },
  {
   "cell_type": "code",
   "execution_count": 14,
   "metadata": {},
   "outputs": [
    {
     "data": {
      "text/plain": [
       "{'data': [{'code': 'TCI',\n",
       "   'date': '2023-08-23',\n",
       "   'time': '09:29:58',\n",
       "   'floor': 'UPCOM',\n",
       "   'type': 'STOCK',\n",
       "   'basicPrice': 11.3,\n",
       "   'ceilingPrice': 12.9,\n",
       "   'floorPrice': 9.7,\n",
       "   'open': 11.8,\n",
       "   'high': 12.1,\n",
       "   'low': 11.8,\n",
       "   'close': 11.9,\n",
       "   'average': 11.931804479,\n",
       "   'adOpen': 11.8,\n",
       "   'adHigh': 12.1,\n",
       "   'adLow': 11.8,\n",
       "   'adClose': 11.9,\n",
       "   'adAverage': 11.931804479,\n",
       "   'nmVolume': 464400.0,\n",
       "   'nmValue': 5541130000.0,\n",
       "   'ptVolume': 0.0,\n",
       "   'ptValue': 0.0,\n",
       "   'change': 0.6,\n",
       "   'adChange': 0.6,\n",
       "   'pctChange': 5.3097}],\n",
       " 'currentPage': 1,\n",
       " 'size': 1,\n",
       " 'totalElements': 1,\n",
       " 'totalPages': 1}"
      ]
     },
     "execution_count": 14,
     "metadata": {},
     "output_type": "execute_result"
    }
   ],
   "source": []
  }
 ],
 "metadata": {
  "kernelspec": {
   "display_name": "prefect-server",
   "language": "python",
   "name": "python3"
  },
  "language_info": {
   "codemirror_mode": {
    "name": "ipython",
    "version": 3
   },
   "file_extension": ".py",
   "mimetype": "text/x-python",
   "name": "python",
   "nbconvert_exporter": "python",
   "pygments_lexer": "ipython3",
   "version": "3.10.11"
  },
  "orig_nbformat": 4
 },
 "nbformat": 4,
 "nbformat_minor": 2
}
