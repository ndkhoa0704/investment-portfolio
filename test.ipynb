{
 "cells": [
  {
   "cell_type": "code",
   "execution_count": 2,
   "metadata": {},
   "outputs": [],
   "source": [
    "from pydantic_settings import BaseSettings, SettingsConfigDict\n",
    "\n",
    "class Settings(BaseSettings):\n",
    "    model_config = SettingsConfigDict(\n",
    "        env_file='.env'\n",
    "    )"
   ]
  },
  {
   "cell_type": "code",
   "execution_count": 3,
   "metadata": {},
   "outputs": [
    {
     "ename": "ValidationError",
     "evalue": "3 validation errors for Settings\nsecret_api_key\n  Extra inputs are not permitted [type=extra_forbidden, input_value='investment-portfolio-key', input_type=str]\n    For further information visit https://errors.pydantic.dev/2.3/v/extra_forbidden\nsecret_new_user_key\n  Extra inputs are not permitted [type=extra_forbidden, input_value='new-user-key', input_type=str]\n    For further information visit https://errors.pydantic.dev/2.3/v/extra_forbidden\npostgres_uri\n  Extra inputs are not permitted [type=extra_forbidden, input_value='', input_type=str]\n    For further information visit https://errors.pydantic.dev/2.3/v/extra_forbidden",
     "output_type": "error",
     "traceback": [
      "\u001b[1;31m---------------------------------------------------------------------------\u001b[0m",
      "\u001b[1;31mValidationError\u001b[0m                           Traceback (most recent call last)",
      "Cell \u001b[1;32mIn[3], line 1\u001b[0m\n\u001b[1;32m----> 1\u001b[0m settings \u001b[39m=\u001b[39m Settings()\n",
      "File \u001b[1;32mc:\\Users\\ndkho\\miniconda3\\envs\\api\\Lib\\site-packages\\pydantic_settings\\main.py:71\u001b[0m, in \u001b[0;36mBaseSettings.__init__\u001b[1;34m(__pydantic_self__, _case_sensitive, _env_prefix, _env_file, _env_file_encoding, _env_nested_delimiter, _secrets_dir, **values)\u001b[0m\n\u001b[0;32m     60\u001b[0m \u001b[39mdef\u001b[39;00m \u001b[39m__init__\u001b[39m(\n\u001b[0;32m     61\u001b[0m     __pydantic_self__,\n\u001b[0;32m     62\u001b[0m     _case_sensitive: \u001b[39mbool\u001b[39m \u001b[39m|\u001b[39m \u001b[39mNone\u001b[39;00m \u001b[39m=\u001b[39m \u001b[39mNone\u001b[39;00m,\n\u001b[1;32m   (...)\u001b[0m\n\u001b[0;32m     69\u001b[0m ) \u001b[39m-\u001b[39m\u001b[39m>\u001b[39m \u001b[39mNone\u001b[39;00m:\n\u001b[0;32m     70\u001b[0m     \u001b[39m# Uses something other than `self` the first arg to allow \"self\" as a settable attribute\u001b[39;00m\n\u001b[1;32m---> 71\u001b[0m     \u001b[39msuper\u001b[39;49m()\u001b[39m.\u001b[39;49m\u001b[39m__init__\u001b[39;49m(\n\u001b[0;32m     72\u001b[0m         \u001b[39m*\u001b[39;49m\u001b[39m*\u001b[39;49m__pydantic_self__\u001b[39m.\u001b[39;49m_settings_build_values(\n\u001b[0;32m     73\u001b[0m             values,\n\u001b[0;32m     74\u001b[0m             _case_sensitive\u001b[39m=\u001b[39;49m_case_sensitive,\n\u001b[0;32m     75\u001b[0m             _env_prefix\u001b[39m=\u001b[39;49m_env_prefix,\n\u001b[0;32m     76\u001b[0m             _env_file\u001b[39m=\u001b[39;49m_env_file,\n\u001b[0;32m     77\u001b[0m             _env_file_encoding\u001b[39m=\u001b[39;49m_env_file_encoding,\n\u001b[0;32m     78\u001b[0m             _env_nested_delimiter\u001b[39m=\u001b[39;49m_env_nested_delimiter,\n\u001b[0;32m     79\u001b[0m             _secrets_dir\u001b[39m=\u001b[39;49m_secrets_dir,\n\u001b[0;32m     80\u001b[0m         )\n\u001b[0;32m     81\u001b[0m     )\n",
      "File \u001b[1;32mc:\\Users\\ndkho\\miniconda3\\envs\\api\\Lib\\site-packages\\pydantic\\main.py:165\u001b[0m, in \u001b[0;36mBaseModel.__init__\u001b[1;34m(__pydantic_self__, **data)\u001b[0m\n\u001b[0;32m    163\u001b[0m \u001b[39m# `__tracebackhide__` tells pytest and some other tools to omit this function from tracebacks\u001b[39;00m\n\u001b[0;32m    164\u001b[0m __tracebackhide__ \u001b[39m=\u001b[39m \u001b[39mTrue\u001b[39;00m\n\u001b[1;32m--> 165\u001b[0m __pydantic_self__\u001b[39m.\u001b[39;49m__pydantic_validator__\u001b[39m.\u001b[39;49mvalidate_python(data, self_instance\u001b[39m=\u001b[39;49m__pydantic_self__)\n",
      "\u001b[1;31mValidationError\u001b[0m: 3 validation errors for Settings\nsecret_api_key\n  Extra inputs are not permitted [type=extra_forbidden, input_value='investment-portfolio-key', input_type=str]\n    For further information visit https://errors.pydantic.dev/2.3/v/extra_forbidden\nsecret_new_user_key\n  Extra inputs are not permitted [type=extra_forbidden, input_value='new-user-key', input_type=str]\n    For further information visit https://errors.pydantic.dev/2.3/v/extra_forbidden\npostgres_uri\n  Extra inputs are not permitted [type=extra_forbidden, input_value='', input_type=str]\n    For further information visit https://errors.pydantic.dev/2.3/v/extra_forbidden"
     ]
    }
   ],
   "source": [
    "settings = Settings()"
   ]
  },
  {
   "cell_type": "code",
   "execution_count": null,
   "metadata": {},
   "outputs": [],
   "source": []
  }
 ],
 "metadata": {
  "kernelspec": {
   "display_name": "api",
   "language": "python",
   "name": "python3"
  },
  "language_info": {
   "codemirror_mode": {
    "name": "ipython",
    "version": 3
   },
   "file_extension": ".py",
   "mimetype": "text/x-python",
   "name": "python",
   "nbconvert_exporter": "python",
   "pygments_lexer": "ipython3",
   "version": "3.11.4"
  },
  "orig_nbformat": 4
 },
 "nbformat": 4,
 "nbformat_minor": 2
}
